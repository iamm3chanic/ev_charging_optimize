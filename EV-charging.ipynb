{
 "cells": [
  {
   "cell_type": "markdown",
   "id": "1402544a-079b-44c8-9e87-ff05eda0da46",
   "metadata": {},
   "source": [
    "\n",
    "# EV Fleet Charging Optimization System\n",
    "\n",
    "This notebook implements an optimization system for EV fleet charging that:\n",
    "1. Uses genetic algorithms (DEAP) to minimize peak grid load and electricity costs\n",
    "2. Applies a hybrid optimization step with PuLP to finalize schedules\n",
    "3. Visualizes results comparing baseline vs optimized load profiles\n",
    "\n",
    "The system considers time-of-use electricity rates and charging session constraints.\n"
   ]
  },
  {
   "cell_type": "code",
   "execution_count": 9,
   "id": "0940f6ff-78f4-41c5-ac48-7f5822e98b3e",
   "metadata": {},
   "outputs": [],
   "source": [
    "# %%\n",
    "import numpy as np\n",
    "import pandas as pd\n",
    "from datetime import datetime, timedelta\n",
    "import random\n",
    "from deap import base, creator, tools, algorithms\n",
    "import pulp\n",
    "import plotly.graph_objects as go\n",
    "from plotly.subplots import make_subplots\n",
    "import matplotlib.pyplot as plt\n",
    "import warnings\n",
    "from pathlib import Path\n",
    "\n",
    "warnings.filterwarnings('ignore')"
   ]
  },
  {
   "cell_type": "markdown",
   "id": "7423c2f0-10a1-4abf-888e-e59c999b53d7",
   "metadata": {},
   "source": [
    "\n",
    "## 1. Data Loading and Preprocessing\n"
   ]
  },
  {
   "cell_type": "code",
   "execution_count": 3,
   "id": "b8c03aa3-f90e-43f2-ace6-fb22c514de6c",
   "metadata": {},
   "outputs": [],
   "source": [
    "class EVChargingData:\n",
    "    \"\"\"\n",
    "    Handles loading and preprocessing of EV charging session data.\n",
    "\n",
    "    Attributes:\n",
    "        data (pd.DataFrame): Processed charging session data\n",
    "        time_of_use_rates (dict): Time-of-use electricity rates by hour\n",
    "    \"\"\"\n",
    "\n",
    "    def __init__(self, filepath=None):\n",
    "        \"\"\"\n",
    "        Initialize with either real data or generate synthetic data if no file provided.\n",
    "\n",
    "        Args:\n",
    "            filepath (str): Path to CSV file with charging data. If None, generates synthetic data.\n",
    "        \"\"\"\n",
    "        if filepath:\n",
    "            self.data = self._load_data(filepath)\n",
    "        else:\n",
    "            self.data = self._generate_synthetic_data()\n",
    "\n",
    "        self._preprocess_data()\n",
    "        self.time_of_use_rates = self._create_time_of_use_rates()\n",
    "\n",
    "    def _load_data(self, filepath):\n",
    "        \"\"\"Load data from CSV file.\"\"\"\n",
    "        return pd.read_csv(filepath)\n",
    "\n",
    "    def _generate_synthetic_data(self, num_sessions=1000):\n",
    "        \"\"\"\n",
    "        Generate synthetic charging session data when real data isn't available.\n",
    "\n",
    "        Args:\n",
    "            num_sessions (int): Number of sessions to generate\n",
    "\n",
    "        Returns:\n",
    "            pd.DataFrame: Synthetic charging session data\n",
    "        \"\"\"\n",
    "        np.random.seed(42)\n",
    "\n",
    "        #data = pd.read_csv(\"station_data_dataverse.csv\")\n",
    "        # Generate base data\n",
    "        data = pd.DataFrame({\n",
    "            'sessionId': range(1, num_sessions + 1),\n",
    "            'kwhTotal': np.random.uniform(5, 80, num_sessions).round(2),\n",
    "            'startTime': np.random.randint(1, 24, num_sessions),\n",
    "            'chargeTimeHrs': np.random.uniform(0.5, 8, num_sessions).round(2),\n",
    "            'weekday': np.random.choice(['Mon', 'Tue', 'Wed', 'Thu', 'Fri', 'Sat', 'Sun'], num_sessions),\n",
    "            'userId': np.random.randint(1, 200, num_sessions),\n",
    "            'stationId': np.random.randint(1, 50, num_sessions),\n",
    "            'managerVehicle': np.random.choice([0, 1], num_sessions, p=[0.8, 0.2]),\n",
    "            'facilityType': np.random.choice([1, 2, 3, 4], num_sessions, p=[0.3, 0.4, 0.2, 0.1])\n",
    "        })\n",
    "\n",
    "        # Generate timestamps\n",
    "        base_date = datetime(2023, 1, 1)\n",
    "        data['created'] = data.apply(\n",
    "            lambda x: (base_date + timedelta(days=np.random.randint(0, 365),\n",
    "                                             hours=x['startTime'])).strftime('%Y-%m-%d %H:%M:%S'),\n",
    "            axis=1\n",
    "        )\n",
    "        data['ended'] = data.apply(\n",
    "            lambda x: (datetime.strptime(x['created'], '%Y-%m-%d %H:%M:%S') +\n",
    "                       timedelta(hours=x['chargeTimeHrs'])), axis=1)\n",
    "\n",
    "        # Generate end time hour\n",
    "        data['endTime'] = data.apply(\n",
    "            lambda x: (datetime.strptime(str(x['ended']), '%Y-%m-%d %H:%M:%S').hour),\n",
    "            axis=1\n",
    "        )\n",
    "\n",
    "        # Generate cost based on kWh and random multiplier\n",
    "        data['dollars'] = (data['kwhTotal'] * np.random.uniform(0.1, 0.3, num_sessions)).round(2)\n",
    "\n",
    "        return data\n",
    "\n",
    "    def _preprocess_data(self):\n",
    "        \"\"\"Clean and preprocess the charging session data.\"\"\"\n",
    "        # Ensure charge time is positive\n",
    "        self.data = self.data[self.data['chargeTimeHrs'] > 0]\n",
    "\n",
    "        # Add binary columns for weekdays if not present\n",
    "        weekdays = ['Mon', 'Tue', 'Wed', 'Thu', 'Fri', 'Sat', 'Sun']\n",
    "        for day in weekdays:\n",
    "            if day not in self.data.columns:\n",
    "                self.data[day] = (self.data['weekday'] == day).astype(int)\n",
    "\n",
    "    def _create_time_of_use_rates(self):\n",
    "        \"\"\"\n",
    "        Create time-of-use electricity rates by hour.\n",
    "\n",
    "        Returns:\n",
    "            dict: Hourly electricity rates (keys: 0-23)\n",
    "        \"\"\"\n",
    "        # Peak hours (e.g., 4pm-9pm) have higher rates\n",
    "        rates = {}\n",
    "        for hour in range(24):\n",
    "            if 16 <= hour < 21:  # Peak hours\n",
    "                rates[hour] = 0.25\n",
    "            elif 7 <= hour < 16 or 21 <= hour < 23:  # Mid-peak\n",
    "                rates[hour] = 0.15\n",
    "            else:  # Off-peak\n",
    "                rates[hour] = 0.10\n",
    "        return rates\n",
    "\n",
    "    def get_charging_sessions(self):\n",
    "        \"\"\"Get the processed charging session data.\"\"\"\n",
    "        return self.data\n",
    "\n",
    "    def get_time_of_use_rates(self):\n",
    "        \"\"\"Get the time-of-use electricity rates.\"\"\"\n",
    "        return self.time_of_use_rates"
   ]
  },
  {
   "cell_type": "code",
   "execution_count": 10,
   "id": "a0ae72aa-b2f5-480d-beef-d8be4e4d26d6",
   "metadata": {},
   "outputs": [
    {
     "name": "stdout",
     "output_type": "stream",
     "text": [
      "Loaded 3395 charging sessions\n",
      "   sessionId  kwhTotal  dollars              created                ended  \\\n",
      "0    1366563      7.78     0.00  0014-11-18 15:40:26  0014-11-18 17:11:04   \n",
      "1    3075723      9.74     0.00  0014-11-19 17:40:26  0014-11-19 19:51:04   \n",
      "2    4228788      6.76     0.58  0014-11-21 12:05:46  0014-11-21 16:46:04   \n",
      "3    3173284      6.17     0.00  0014-12-03 19:16:12  0014-12-03 21:02:18   \n",
      "4    3266500      0.93     0.00  0014-12-11 20:56:11  0014-12-11 21:14:06   \n",
      "\n",
      "   startTime  endTime  chargeTimeHrs weekday platform  ...  Mon  Tues  Wed  \\\n",
      "0         15       17       1.510556     Tue  android  ...    0     1    0   \n",
      "1         17       19       2.177222     Wed  android  ...    0     0    1   \n",
      "2         12       16       4.671667     Fri  android  ...    0     0    0   \n",
      "3         19       21       1.768333     Wed  android  ...    0     0    1   \n",
      "4         20       21       0.298611     Thu  android  ...    0     0    0   \n",
      "\n",
      "   Thurs  Fri  Sat  Sun  reportedZip  Tue  Thu  \n",
      "0      0    0    0    0            0    1    0  \n",
      "1      0    0    0    0            0    0    0  \n",
      "2      0    1    0    0            0    0    0  \n",
      "3      0    0    0    0            0    0    0  \n",
      "4      1    0    0    0            0    0    1  \n",
      "\n",
      "[5 rows x 26 columns]\n"
     ]
    }
   ],
   "source": [
    "# Initialize data handler (using synthetic data in this example)\n",
    "path = \"station_data_dataverse.csv\"\n",
    "if not Path(path).exists():\n",
    "    data_handler_gen = EVChargingData()\n",
    "else:\n",
    "    data_handler = EVChargingData(filepath=path)\n",
    "charging_sessions = data_handler.get_charging_sessions()\n",
    "time_of_use_rates = data_handler.get_time_of_use_rates()\n",
    "\n",
    "print(f\"Loaded {len(charging_sessions)} charging sessions\")\n",
    "print(charging_sessions.head())"
   ]
  },
  {
   "cell_type": "markdown",
   "id": "5f79f93b-918a-4a40-92dc-6ac47edec464",
   "metadata": {},
   "source": [
    "\n",
    "## 2. Genetic Algorithm Optimization (DEAP)\n",
    "\n",
    "We'll use a genetic algorithm to find charging schedules that minimize:\n",
    "1. Peak grid load (primary objective)\n",
    "2. Electricity costs (secondary objective)\n"
   ]
  },
  {
   "cell_type": "code",
   "execution_count": 6,
   "id": "8f8de139-cf85-4899-bca5-0939eeeb8339",
   "metadata": {},
   "outputs": [],
   "source": [
    "class GeneticAlgorithmOptimizer:\n",
    "    \"\"\"\n",
    "    Implements genetic algorithm optimization for EV charging schedules using DEAP.\n",
    "\n",
    "    Attributes:\n",
    "        charging_sessions (pd.DataFrame): EV charging session data\n",
    "        time_of_use_rates (dict): Electricity rates by hour\n",
    "        power_capacity (float): Total available power capacity (kW)\n",
    "        time_slots (int): Number of time slots in optimization horizon\n",
    "        population_size (int): GA population size\n",
    "        generations (int): Number of GA generations\n",
    "        cxpb (float): Crossover probability\n",
    "        mutpb (float): Mutation probability\n",
    "    \"\"\"\n",
    "\n",
    "    def __init__(self, charging_sessions, time_of_use_rates,\n",
    "                 power_capacity=1000, time_slots=24,\n",
    "                 population_size=50, generations=100,\n",
    "                 cxpb=0.7, mutpb=0.3):\n",
    "        \"\"\"\n",
    "        Initialize the genetic algorithm optimizer.\n",
    "\n",
    "        Args:\n",
    "            charging_sessions: DataFrame of charging sessions\n",
    "            time_of_use_rates: Dictionary of electricity rates by hour\n",
    "            power_capacity: Total available power capacity in kW\n",
    "            time_slots: Number of time slots to optimize over\n",
    "            population_size: Size of GA population\n",
    "            generations: Number of GA generations\n",
    "            cxpb: Crossover probability\n",
    "            mutpb: Mutation probability\n",
    "        \"\"\"\n",
    "        self.charging_sessions = charging_sessions\n",
    "        self.time_of_use_rates = time_of_use_rates\n",
    "        self.power_capacity = power_capacity\n",
    "        self.time_slots = time_slots\n",
    "        self.population_size = population_size\n",
    "        self.generations = generations\n",
    "        self.cxpb = cxpb\n",
    "        self.mutpb = mutpb\n",
    "\n",
    "        # Average charging power per session (kW)\n",
    "        self.charging_sessions['avg_power'] = (\n",
    "                self.charging_sessions['kwhTotal'] / self.charging_sessions['chargeTimeHrs']\n",
    "        )\n",
    "\n",
    "        # Setup DEAP framework\n",
    "        self._setup_deap()\n",
    "\n",
    "    def _setup_deap(self):\n",
    "        \"\"\"Setup the DEAP framework with fitness and individual classes.\"\"\"\n",
    "        # Define fitness (minimize both objectives)\n",
    "        creator.create(\"FitnessMulti\", base.Fitness, weights=(-1.0, -1.0))\n",
    "\n",
    "        # Define individual (list of start time offsets)\n",
    "        creator.create(\"Individual\", list, fitness=creator.FitnessMulti)\n",
    "\n",
    "        # Initialize toolbox\n",
    "        self.toolbox = base.Toolbox()\n",
    "\n",
    "        # Attribute generator: random start time offset (0 to max_offset)\n",
    "        max_offset = self.time_slots - 1\n",
    "        self.toolbox.register(\"attr_int\", random.randint, 0, max_offset)\n",
    "\n",
    "        # Structure initializers\n",
    "        self.toolbox.register(\"individual\", tools.initRepeat,\n",
    "                              creator.Individual, self.toolbox.attr_int,\n",
    "                              n=len(self.charging_sessions))\n",
    "        self.toolbox.register(\"population\", tools.initRepeat, list, self.toolbox.individual)\n",
    "\n",
    "        # Register evaluation, crossover, mutation and selection functions\n",
    "        self.toolbox.register(\"evaluate\", self._evaluate)\n",
    "        self.toolbox.register(\"mate\", tools.cxTwoPoint)\n",
    "        self.toolbox.register(\"mutate\", tools.mutUniformInt, low=0,\n",
    "                              up=self.time_slots - 1, indpb=0.1)\n",
    "        self.toolbox.register(\"select\", tools.selNSGA2)\n",
    "\n",
    "    def _evaluate(self, individual):\n",
    "        \"\"\"\n",
    "        Evaluate the fitness of an individual (charging schedule).\n",
    "\n",
    "        Args:\n",
    "            individual: List of start time offsets\n",
    "\n",
    "        Returns:\n",
    "            tuple: (peak_load, total_cost) fitness values\n",
    "        \"\"\"\n",
    "        # Calculate charging profiles for all sessions\n",
    "        load_profile = np.zeros(self.time_slots)\n",
    "        total_cost = 0.0\n",
    "\n",
    "        for i, session in self.charging_sessions.iterrows():\n",
    "            # Get scheduled start time (original start time + offset)\n",
    "            original_start = session['startTime']\n",
    "            scheduled_start = (original_start + individual[i]) % self.time_slots\n",
    "\n",
    "            # Calculate charging duration in time slots\n",
    "            duration = min(int(np.ceil(session['chargeTimeHrs'])), self.time_slots)\n",
    "\n",
    "            # Calculate average power for this session\n",
    "            avg_power = session['avg_power']\n",
    "\n",
    "            # Add to load profile\n",
    "            for t in range(duration):\n",
    "                time_slot = (scheduled_start + t) % self.time_slots\n",
    "                load_profile[time_slot] += avg_power\n",
    "\n",
    "                # Add to cost based on time-of-use rate\n",
    "                total_cost += avg_power * self.time_of_use_rates[time_slot]\n",
    "\n",
    "        # Calculate peak load\n",
    "        peak_load = np.max(load_profile)\n",
    "\n",
    "        # Penalize if peak exceeds capacity\n",
    "        if peak_load > self.power_capacity:\n",
    "            peak_load += 10 * (peak_load - self.power_capacity)\n",
    "\n",
    "        return (peak_load, total_cost)\n",
    "\n",
    "    def optimize(self):\n",
    "        \"\"\"\n",
    "        Run the genetic algorithm optimization.\n",
    "\n",
    "        Returns:\n",
    "            list: Pareto front of optimal solutions\n",
    "            log: Statistics log\n",
    "        \"\"\"\n",
    "        # Initialize population\n",
    "        pop = self.toolbox.population(n=self.population_size)\n",
    "\n",
    "        # Evaluate the entire population\n",
    "        fitnesses = list(map(self.toolbox.evaluate, pop))\n",
    "        for ind, fit in zip(pop, fitnesses):\n",
    "            ind.fitness.values = fit\n",
    "\n",
    "        # Begin the evolution\n",
    "        stats = tools.Statistics(lambda ind: ind.fitness.values)\n",
    "        stats.register(\"avg\", np.mean, axis=0)\n",
    "        stats.register(\"std\", np.std, axis=0)\n",
    "        stats.register(\"min\", np.min, axis=0)\n",
    "        stats.register(\"max\", np.max, axis=0)\n",
    "\n",
    "        logbook = tools.Logbook()\n",
    "        logbook.header = \"gen\", \"evals\", \"std\", \"min\", \"avg\", \"max\"\n",
    "\n",
    "        # Record statistics for initial population\n",
    "        record = stats.compile(pop)\n",
    "        logbook.record(gen=0, evals=len(pop), **record)\n",
    "\n",
    "        for gen in range(1, self.generations + 1):\n",
    "            # Select the next generation individuals\n",
    "            offspring = self.toolbox.select(pop, len(pop))\n",
    "\n",
    "            # Clone the selected individuals\n",
    "            offspring = list(map(self.toolbox.clone, offspring))\n",
    "\n",
    "            # Apply crossover and mutation\n",
    "            for child1, child2 in zip(offspring[::2], offspring[1::2]):\n",
    "                if random.random() < self.cxpb:\n",
    "                    self.toolbox.mate(child1, child2)\n",
    "                    del child1.fitness.values\n",
    "                    del child2.fitness.values\n",
    "\n",
    "            for mutant in offspring:\n",
    "                if random.random() < self.mutpb:\n",
    "                    self.toolbox.mutate(mutant)\n",
    "                    del mutant.fitness.values\n",
    "\n",
    "            # Evaluate the individuals with an invalid fitness\n",
    "            invalid_ind = [ind for ind in offspring if not ind.fitness.valid]\n",
    "            fitnesses = map(self.toolbox.evaluate, invalid_ind)\n",
    "            for ind, fit in zip(invalid_ind, fitnesses):\n",
    "                ind.fitness.values = fit\n",
    "\n",
    "            # Replace population\n",
    "            pop[:] = offspring\n",
    "\n",
    "            # Record statistics\n",
    "            record = stats.compile(pop)\n",
    "            logbook.record(gen=gen, evals=len(invalid_ind), **record)\n",
    "\n",
    "        # Get Pareto front solutions\n",
    "        pareto_front = tools.sortNondominated(pop, len(pop), first_front_only=True)[0]\n",
    "\n",
    "        return pareto_front, logbook\n",
    "\n",
    "    def decode_schedule(self, individual):\n",
    "        \"\"\"\n",
    "        Decode an individual into a charging schedule DataFrame.\n",
    "\n",
    "        Args:\n",
    "            individual: GA individual representing a schedule\n",
    "\n",
    "        Returns:\n",
    "            pd.DataFrame: Charging schedule with session details\n",
    "        \"\"\"\n",
    "        schedule = self.charging_sessions.copy()\n",
    "        schedule['scheduled_start'] = [\n",
    "            (schedule.loc[i, 'startTime'] + individual[i]) % self.time_slots\n",
    "            for i in range(len(schedule))\n",
    "        ]\n",
    "        schedule['scheduled_end'] = (\n",
    "                schedule['scheduled_start'] + np.ceil(schedule['chargeTimeHrs'])\n",
    "        ).mod(self.time_slots)\n",
    "        return schedule"
   ]
  },
  {
   "cell_type": "code",
   "execution_count": 7,
   "id": "de12f3f2-9b72-4a01-b90c-0e19ce6e9d86",
   "metadata": {},
   "outputs": [
    {
     "name": "stdout",
     "output_type": "stream",
     "text": [
      "Running GA optimizing\n"
     ]
    }
   ],
   "source": [
    "# Initialize and run genetic algorithm optimizer\n",
    "ga_optimizer = GeneticAlgorithmOptimizer(\n",
    "    charging_sessions=charging_sessions,\n",
    "    time_of_use_rates=time_of_use_rates,\n",
    "    power_capacity=500,  # kW\n",
    "    population_size=30,\n",
    "    generations=50\n",
    ")\n",
    "\n",
    "print(\"Running GA optimizing\")\n",
    "pareto_front, logbook = ga_optimizer.optimize()"
   ]
  },
  {
   "cell_type": "markdown",
   "id": "87b369dd-eab6-44b9-9f93-cf5b5c4f48ee",
   "metadata": {},
   "source": [
    "\n",
    "## 3. Hybrid Optimization with PuLP\n",
    "\n",
    "We'll use linear programming to refine the best solution from the genetic algorithm.\n"
   ]
  },
  {
   "cell_type": "code",
   "execution_count": 18,
   "id": "f8c11c03-c64d-4994-9210-f3b55534ee43",
   "metadata": {},
   "outputs": [],
   "source": [
    "def check_solvers():\n",
    "    \"\"\"Check which solvers are properly installed and working.\"\"\"\n",
    "    solvers = {\n",
    "        'CBC': pulp.PULP_CBC_CMD,\n",
    "        'GLPK': pulp.GLPK_CMD,\n",
    "        'SCIP': pulp.SCIP_CMD\n",
    "    }\n",
    "    \n",
    "    working_solvers = []\n",
    "    for name, solver in solvers.items():\n",
    "        try:\n",
    "            test_prob = pulp.LpProblem(\"Test\", pulp.LpMinimize)\n",
    "            x = pulp.LpVariable('x', lowBound=0)\n",
    "            test_prob += x\n",
    "            solver().solve(test_prob)\n",
    "            working_solvers.append(name)\n",
    "            print(f\"{name} solver is working\")\n",
    "        except Exception as e:\n",
    "            print(f\"{name} solver failed: {str(e)}\")\n",
    "    \n",
    "    if not working_solvers:\n",
    "        print(\"No solvers working - will use fallback methods\")\n",
    "    return working_solvers"
   ]
  },
  {
   "cell_type": "code",
   "execution_count": 20,
   "id": "18aa2ad6-2b5d-47f1-95ed-fe1958eda9ca",
   "metadata": {},
   "outputs": [
    {
     "name": "stdout",
     "output_type": "stream",
     "text": [
      "CBC solver is working\n",
      "GLPK solver failed: PuLP: cannot execute glpsol.exe\n",
      "SCIP solver failed: PuLP: cannot execute scip.exe\n",
      "['CBC']\n"
     ]
    }
   ],
   "source": [
    "print(check_solvers())"
   ]
  },
  {
   "cell_type": "code",
   "execution_count": 21,
   "id": "80bdac8b-9881-4570-9eea-6fa8abb97128",
   "metadata": {},
   "outputs": [
    {
     "name": "stdout",
     "output_type": "stream",
     "text": [
      "['CyLP', 'GLPK_CMD', 'PYGLPK', 'CPLEX_CMD', 'CPLEX_PY', 'GUROBI', 'GUROBI_CMD', 'MOSEK', 'XPRESS', 'XPRESS', 'XPRESS_PY', 'PULP_CBC_CMD', 'COIN_CMD', 'COINMP_DLL', 'CHOCO_CMD', 'MIPCL_CMD', 'SCIP_CMD', 'FSCIP_CMD', 'SCIP_PY', 'HiGHS', 'HiGHS_CMD', 'COPT', 'COPT_DLL', 'COPT_CMD', 'SAS94', 'SASCAS']\n"
     ]
    }
   ],
   "source": [
    "solver_list = pulp.listSolvers()\n",
    "print(solver_list)"
   ]
  },
  {
   "cell_type": "code",
   "execution_count": 54,
   "id": "f74d3f1b-6585-4ad7-b410-7cd7d3337121",
   "metadata": {},
   "outputs": [],
   "source": [
    "class LinearProgrammingOptimizer:\n",
    "    \"\"\"\n",
    "    Implements linear programming optimization for final schedule refinement using PuLP.\n",
    "\n",
    "    Attributes:\n",
    "        charging_sessions (pd.DataFrame): EV charging session data\n",
    "        time_of_use_rates (dict): Electricity rates by hour\n",
    "        power_capacity (float): Total available power capacity (kW)\n",
    "        time_slots (int): Number of time slots in optimization horizon\n",
    "    \"\"\"\n",
    "\n",
    "    def __init__(self, charging_sessions, time_of_use_rates, power_capacity=1000, time_slots=24):\n",
    "        \"\"\"\n",
    "        Initialize the linear programming optimizer.\n",
    "\n",
    "        Args:\n",
    "            charging_sessions: DataFrame of charging sessions\n",
    "            time_of_use_rates: Dictionary of electricity rates by hour\n",
    "            power_capacity: Total available power capacity in kW\n",
    "            time_slots: Number of time slots to optimize over\n",
    "        \"\"\"\n",
    "        self.charging_sessions = charging_sessions\n",
    "        self.time_of_use_rates = time_of_use_rates\n",
    "        self.power_capacity = power_capacity\n",
    "        self.time_slots = time_slots\n",
    "\n",
    "        # Calculate average power for each session\n",
    "        self.charging_sessions['avg_power'] = (\n",
    "                self.charging_sessions['kwhTotal'] / self.charging_sessions['chargeTimeHrs']\n",
    "        )\n",
    "        self.prob = None\n",
    "        self.available_solvers = self._detect_available_solvers()\n",
    "\n",
    "    def _detect_available_solvers(self):\n",
    "        \"\"\"Detect which solvers are availabglle on the system.\"\"\"\n",
    "        solvers = []\n",
    "        \n",
    "        # Test CBC first (most recommended)\n",
    "        try:\n",
    "            pulp.PULP_CBC_CMD().available()\n",
    "            solvers.append(('CBC', pulp.PULP_CBC_CMD))\n",
    "        except:\n",
    "            pass\n",
    "        \n",
    "        # Test GLPK\n",
    "        try:\n",
    "            pulp.GLPK_CMD().available()\n",
    "            solvers.append(('GLPK', pulp.GLPK_CMD))\n",
    "        except:\n",
    "            pass\n",
    "        \n",
    "        # Test SCIP if installed\n",
    "        try:\n",
    "            pulp.SCIP_CMD().available()\n",
    "            solvers.append(('SCIP', pulp.SCIP_CMD))\n",
    "        except:\n",
    "            pass\n",
    "        \n",
    "        # Fallback to default\n",
    "        solvers.append(('PULP_DEFAULT', None))\n",
    "        \n",
    "        return solvers\n",
    "        \n",
    "    def optimize1(self, initial_schedule=None):\n",
    "        \"\"\"\n",
    "        Run the linear programming optimization.\n",
    "\n",
    "        Args:\n",
    "            initial_schedule: Initial schedule from GA to use as starting point\n",
    "\n",
    "        Returns:\n",
    "            pd.DataFrame: Optimized charging schedule\n",
    "            dict: Load profile by time slot\n",
    "        \"\"\"\n",
    "        # Create the LP problem\n",
    "        last_error = None\n",
    "        \n",
    "        for solver_name, solver_class in self.available_solvers:\n",
    "            try:\n",
    "                print(f\"Trying solver: {solver_name}\")\n",
    "                self.prob = pulp.LpProblem(\"EV_Charging_Optimization\", pulp.LpMinimize)\n",
    "                \n",
    "                # Create variables\n",
    "                num_sessions = len(self.charging_sessions)\n",
    "                start_vars = pulp.LpVariable.dicts(\n",
    "                    \"start\", range(num_sessions),\n",
    "                    lowBound=0, upBound=self.time_slots-1,\n",
    "                    cat='Integer'\n",
    "                )\n",
    "                \n",
    "                # Objective and constraints\n",
    "                peak_load = pulp.LpVariable(\"peak_load\", lowBound=0)\n",
    "                self.prob += 10 * peak_load + pulp.lpSum(\n",
    "                    self._calculate_session_cost(i, start_vars[i])\n",
    "                    for i in range(num_sessions)\n",
    "                )\n",
    "                \n",
    "                for t in range(self.time_slots):\n",
    "                    self.prob += peak_load >= self._calculate_time_slot_load(t, start_vars)\n",
    "                self.prob += peak_load <= self.power_capacity\n",
    "                \n",
    "                # Solve with current solver\n",
    "                solver = solver_class(msg=False) if solver_class else None\n",
    "                solve_status = self.prob.solve(solver)\n",
    "                \n",
    "                if solve_status != pulp.LpStatusOptimal:\n",
    "                    raise pulp.PulpSolverError(f\"Solver {solver_name} did not find optimal solution\")\n",
    "                \n",
    "                # Extract solution\n",
    "                optimized_schedule = self.charging_sessions.copy()\n",
    "                optimized_schedule['scheduled_start'] = [\n",
    "                    int(pulp.value(start_vars[i])) for i in range(num_sessions)]\n",
    "                optimized_schedule['scheduled_end'] = (\n",
    "                    optimized_schedule['scheduled_start'] + \n",
    "                    np.ceil(optimized_schedule['chargeTimeHrs'])\n",
    "                ).mod(self.time_slots)\n",
    "                \n",
    "                load_profile = self._calculate_final_load_profile(optimized_schedule)\n",
    "                return optimized_schedule, load_profile, solver_name\n",
    "                \n",
    "            except Exception as e:\n",
    "                last_error = e\n",
    "                print(f\"Solver {solver_name} failed: {str(e)}\")\n",
    "                continue\n",
    "        \n",
    "        print(\"All solvers failed. Using genetic algorithm results as fallback.\")\n",
    "        print(f\"Last error: {str(last_error)}\")\n",
    "        return None, None, \"FAILED\"\n",
    "\n",
    "    def optimize(self, initial_schedule=None):\n",
    "        \"\"\"Try optimization with different approaches.\"\"\"\n",
    "        # First try with proper solvers\n",
    "        for solver_name in self.available_solvers:\n",
    "            try:\n",
    "                result = self._solve_with_solver(solver_name, initial_schedule)\n",
    "                if result:\n",
    "                    return result + (solver_name,)\n",
    "            except Exception as e:\n",
    "                print(f\"Solver {solver_name} failed: {str(e)}\")\n",
    "                continue\n",
    "        \n",
    "        # If all solvers failed, use heuristic approach\n",
    "        print(\"Using heuristic fallback method\")\n",
    "        return self._heuristic_optimization(initial_schedule), \"HEURISTIC\"\n",
    "\n",
    "    def _solve_with_solver(self, solver_name, initial_schedule):\n",
    "        \"\"\"Try solving with a specific solver.\"\"\"\n",
    "        solver_map = {\n",
    "            'CBC': pulp.PULP_CBC_CMD(msg=False),\n",
    "            'GLPK': pulp.GLPK_CMD(msg=False),\n",
    "            'SCIP': pulp.SCIP_CMD(msg=False)\n",
    "        }\n",
    "        \n",
    "        prob = pulp.LpProblem(\"EV_Charging_Optimization\", pulp.LpMinimize)\n",
    "        \n",
    "        # Create variables and constraints\n",
    "        num_sessions = len(self.charging_sessions)\n",
    "        start_vars = pulp.LpVariable.dicts(\n",
    "            \"start\", range(num_sessions),\n",
    "            lowBound=0, upBound=self.time_slots-1,\n",
    "            cat='Integer'\n",
    "        )\n",
    "        \n",
    "        peak_load = pulp.LpVariable(\"peak_load\", lowBound=0)\n",
    "        prob += 10 * peak_load + pulp.lpSum(\n",
    "            self._calculate_session_cost(i, start_vars[i])\n",
    "            for i in range(num_sessions)\n",
    "        )\n",
    "        \n",
    "        for t in range(self.time_slots):\n",
    "            prob += peak_load >= self._calculate_time_slot_load(t, start_vars)\n",
    "        prob += peak_load <= self.power_capacity\n",
    "        \n",
    "        # Solve\n",
    "        solver = solver_map.get(solver_name)\n",
    "        status = prob.solve(solver)\n",
    "        \n",
    "        if status != pulp.LpStatusOptimal:\n",
    "            raise pulp.PulpSolverError(f\"No optimal solution found with {solver_name}\")\n",
    "        \n",
    "        # Extract solution\n",
    "        optimized_schedule = self.charging_sessions.copy()\n",
    "        optimized_schedule['scheduled_start'] = [\n",
    "            int(pulp.value(start_vars[i])) for i in range(num_sessions)]\n",
    "        optimized_schedule['scheduled_end'] = (\n",
    "            optimized_schedule['scheduled_start'] + \n",
    "            np.ceil(optimized_schedule['chargeTimeHrs'])\n",
    "        ).mod(self.time_slots)\n",
    "        \n",
    "        load_profile = self._calculate_final_load_profile(optimized_schedule)\n",
    "        return optimized_schedule, load_profile\n",
    "\n",
    "    def _heuristic_optimization(self, initial_schedule):\n",
    "        \"\"\"Fallback optimization when solvers fail.\"\"\"\n",
    "        if initial_schedule is not None:\n",
    "            # Use GA results if available\n",
    "            optimized_schedule = initial_schedule.copy()\n",
    "        else:\n",
    "            # Simple heuristic: spread out charging based on power needs\n",
    "            optimized_schedule = self.charging_sessions.copy()\n",
    "            optimized_schedule = optimized_schedule.sort_values('avg_power', ascending=False)\n",
    "            optimized_schedule['scheduled_start'] = np.linspace(\n",
    "                0, self.time_slots-1, len(optimized_schedule), dtype=int\n",
    "            )\n",
    "        \n",
    "        optimized_schedule['scheduled_end'] = (\n",
    "            optimized_schedule['scheduled_start'] + \n",
    "            np.ceil(optimized_schedule['chargeTimeHrs'])\n",
    "        ).mod(self.time_slots)\n",
    "        \n",
    "        load_profile = self._calculate_final_load_profile(optimized_schedule)\n",
    "        return optimized_schedule, load_profile\n",
    "        \n",
    "    def _calculate_session_cost(self, session_idx, start_var):\n",
    "        \"\"\"\n",
    "        Calculate the cost of a charging session based on its start time.\n",
    "\n",
    "        Args:\n",
    "            session_idx: Index of the charging session\n",
    "            start_var: PuLP variable representing start time\n",
    "\n",
    "        Returns:\n",
    "            LpAffineExpression: Cost expression for the session\n",
    "        \"\"\"\n",
    "        session = self.charging_sessions.iloc[session_idx]\n",
    "        duration = int(np.ceil(session['chargeTimeHrs']))\n",
    "        avg_power = session['avg_power']\n",
    "\n",
    "        cost_expr = 0\n",
    "        for t_offset in range(duration):\n",
    "            # Create binary indicator for each possible start time\n",
    "            for possible_start in range(self.time_slots):\n",
    "                # Create a binary variable that is 1 if session starts at possible_start\n",
    "                # and 0 otherwise (we'll use this to calculate the correct time slot)\n",
    "                start_indicator = pulp.LpVariable(\n",
    "                    f\"start_ind_{session_idx}_{possible_start}\", \n",
    "                    cat='Binary'\n",
    "                )\n",
    "                \n",
    "                # The actual time slot is (possible_start + t_offset) % self.time_slots\n",
    "                time_slot = (possible_start + t_offset) % self.time_slots\n",
    "                rate = self.time_of_use_rates[time_slot]\n",
    "                \n",
    "                # Add to cost if this is the actual start time\n",
    "                cost_expr += avg_power * rate * start_indicator\n",
    "\n",
    "        return cost_expr\n",
    "\n",
    "    def _calculate_time_slot_load(self, time_slot, start_vars):\n",
    "        \"\"\"\n",
    "        Calculate load in a specific time slot based on start variables.\n",
    "\n",
    "        Args:\n",
    "            time_slot: Time slot to calculate load for\n",
    "            start_vars: Dictionary of start time variables\n",
    "\n",
    "        Returns:\n",
    "            LpAffineExpression: Load expression for the time slot\n",
    "        \"\"\"\n",
    "        load_expr = 0\n",
    "        for i, session in self.charging_sessions.iterrows():\n",
    "            duration = int(np.ceil(session['chargeTimeHrs']))\n",
    "            avg_power = session['avg_power']\n",
    "            \n",
    "            # Create a dictionary to store start indicators\n",
    "            start_indicators = {\n",
    "                possible_start: pulp.LpVariable(\n",
    "                    f\"load_ind_{i}_{possible_start}\", \n",
    "                    cat='Binary'\n",
    "                )\n",
    "                for possible_start in range(self.time_slots)\n",
    "            }\n",
    "            \n",
    "            # Check active time slots\n",
    "            for possible_start in range(self.time_slots):\n",
    "                for t_offset in range(duration):\n",
    "                    if (possible_start + t_offset) % self.time_slots == time_slot:\n",
    "                        load_expr += avg_power * start_indicators[possible_start]\n",
    "                        break\n",
    "            \n",
    "            # Add constraints to the problem\n",
    "            if hasattr(self, 'prob') and self.prob is not None:\n",
    "                # Constraint: exactly one start time must be selected\n",
    "                self.prob += pulp.lpSum(start_indicators.values()) == 1\n",
    "                \n",
    "                # Link the start_indicator variables to the actual start_var\n",
    "                self.prob += start_vars[i] == pulp.lpSum(\n",
    "                    possible_start * start_indicators[possible_start]\n",
    "                    for possible_start in range(self.time_slots)\n",
    "                )\n",
    "        \n",
    "        return load_expr\n",
    "\n",
    "    def _calculate_final_load_profile(self, schedule):\n",
    "        \"\"\"\n",
    "        Calculate the final load profile from a schedule.\n",
    "\n",
    "        Args:\n",
    "            schedule: DataFrame with scheduled start times\n",
    "\n",
    "        Returns:\n",
    "            dict: Load profile by time slot\n",
    "        \"\"\"\n",
    "        load_profile = {t: 0.0 for t in range(self.time_slots)}\n",
    "\n",
    "        for _, session in schedule.iterrows():\n",
    "            start = int(session['scheduled_start'])\n",
    "            duration = int(np.ceil(session['chargeTimeHrs']))\n",
    "            avg_power = session['avg_power']\n",
    "\n",
    "            for t_offset in range(duration):\n",
    "                time_slot = (start + t_offset) % self.time_slots\n",
    "                load_profile[time_slot] += avg_power\n",
    "\n",
    "        return load_profile"
   ]
  },
  {
   "cell_type": "code",
   "execution_count": 55,
   "id": "fe77641f-64de-4232-bc93-835a40018996",
   "metadata": {},
   "outputs": [
    {
     "name": "stdout",
     "output_type": "stream",
     "text": [
      "Running LP optimizing\n",
      "Solver ('CBC', <class 'pulp.apis.coin_api.PULP_CBC_CMD'>) failed: Pulp: Error while executing C:\\Users\\anfisa.lipko\\PycharmProjects\\fr_analisys-Vector\\nap38venv\\lib\\site-packages\\pulp\\apis\\../solverdir/cbc/win/i64/cbc.exe\n",
      "Solver ('GLPK', <class 'pulp.apis.glpk_api.GLPK_CMD'>) failed: Pulp: Error while executing C:\\Users\\anfisa.lipko\\PycharmProjects\\fr_analisys-Vector\\nap38venv\\lib\\site-packages\\pulp\\apis\\../solverdir/cbc/win/i64/cbc.exe\n",
      "Solver ('SCIP', <class 'pulp.apis.scip_api.SCIP_CMD'>) failed: Pulp: Error while executing C:\\Users\\anfisa.lipko\\PycharmProjects\\fr_analisys-Vector\\nap38venv\\lib\\site-packages\\pulp\\apis\\../solverdir/cbc/win/i64/cbc.exe\n",
      "Solver ('PULP_DEFAULT', None) failed: Pulp: Error while executing C:\\Users\\anfisa.lipko\\PycharmProjects\\fr_analisys-Vector\\nap38venv\\lib\\site-packages\\pulp\\apis\\../solverdir/cbc/win/i64/cbc.exe\n",
      "Using heuristic fallback method\n",
      "Optimization successful using HEURISTIC\n"
     ]
    }
   ],
   "source": [
    "# Select the best solution from GA Pareto front (min peak load)\n",
    "best_ga_ind = min(pareto_front, key=lambda ind: ind.fitness.values[0])\n",
    "ga_schedule = ga_optimizer.decode_schedule(best_ga_ind)\n",
    "\n",
    "# Run LP optimization using GA solution as starting point\n",
    "lp_optimizer = LinearProgrammingOptimizer(\n",
    "    charging_sessions=charging_sessions,\n",
    "    time_of_use_rates=time_of_use_rates,\n",
    "    power_capacity=500\n",
    ")\n",
    "print(\"Running LP optimizing\")\n",
    "(optimized_schedule, optimized_load_profile), solver_used = lp_optimizer.optimize(ga_schedule)\n",
    "\n",
    "if optimized_schedule is not None:\n",
    "    print(f\"Optimization successful using {solver_used}\")\n",
    "    # Proceed with visualization\n",
    "else:\n",
    "    print(\"All solvers failed, using GA results\")\n",
    "    optimized_schedule = ga_schedule\n",
    "    optimized_load_profile = ga_optimizer._evaluate(best_ga_ind)[0]"
   ]
  },
  {
   "cell_type": "markdown",
   "id": "3a66e11e-8dca-40de-b1c7-e101ca9a6325",
   "metadata": {},
   "source": [
    "\n",
    "## 4. Visualization and Results Comparison\n"
   ]
  },
  {
   "cell_type": "code",
   "execution_count": 52,
   "id": "f35a3cf0-bba0-493a-905f-af7b78c3b24e",
   "metadata": {},
   "outputs": [],
   "source": [
    "class ChargingVisualizer:\n",
    "    \"\"\"\n",
    "    Visualizes charging optimization results using Plotly.\n",
    "\n",
    "    Attributes:\n",
    "        baseline_load_profile (dict): Load profile for baseline scenario\n",
    "        optimized_load_profile (dict): Load profile for optimized scenario\n",
    "        time_of_use_rates (dict): Electricity rates by hour\n",
    "    \"\"\"\n",
    "\n",
    "    def __init__(self, charging_sessions, optimized_schedule, optimized_load_profile, time_of_use_rates):\n",
    "        \"\"\"\n",
    "        Initialize the visualizer with data.\n",
    "\n",
    "        Args:\n",
    "            charging_sessions: Original charging sessions\n",
    "            optimized_schedule: Optimized schedule DataFrame\n",
    "            optimized_load_profile: Optimized load profile\n",
    "            time_of_use_rates: Time-of-use electricity rates\n",
    "        \"\"\"\n",
    "        self.time_of_use_rates = time_of_use_rates\n",
    "        self.optimized_load_profile = optimized_load_profile\n",
    "\n",
    "        # Calculate baseline load profile (first-come-first-served)\n",
    "        self.baseline_load_profile = self._calculate_baseline_load_profile(charging_sessions)\n",
    "\n",
    "        # Calculate optimized schedule metrics\n",
    "        self.optimized_metrics = self._calculate_metrics(optimized_load_profile)\n",
    "        self.baseline_metrics = self._calculate_metrics(self.baseline_load_profile)\n",
    "\n",
    "    def _calculate_baseline_load_profile(self, charging_sessions):\n",
    "        \"\"\"\n",
    "        Calculate baseline load profile (first-come-first-served).\n",
    "\n",
    "        Args:\n",
    "            charging_sessions: DataFrame of charging sessions\n",
    "\n",
    "        Returns:\n",
    "            dict: Load profile by hour\n",
    "        \"\"\"\n",
    "        load_profile = {t: 0.0 for t in range(24)}\n",
    "\n",
    "        for _, session in charging_sessions.iterrows():\n",
    "            start = session['startTime']\n",
    "            duration = int(np.ceil(session['chargeTimeHrs']))\n",
    "            avg_power = session['kwhTotal'] / session['chargeTimeHrs']\n",
    "\n",
    "            for t_offset in range(duration):\n",
    "                time_slot = (start + t_offset) % 24\n",
    "                load_profile[time_slot] += avg_power\n",
    "\n",
    "        return load_profile\n",
    "\n",
    "    def _calculate_metrics(self, load_profile):\n",
    "        \"\"\"\n",
    "        Calculate performance metrics for a load profile.\n",
    "\n",
    "        Args:\n",
    "            load_profile: Dictionary of load by hour\n",
    "\n",
    "        Returns:\n",
    "            dict: Calculated metrics\n",
    "        \"\"\"\n",
    "        total_load = sum(load_profile.values())\n",
    "        peak_load = max(load_profile.values())\n",
    "        avg_load = total_load / len(load_profile)\n",
    "\n",
    "        # Calculate total cost\n",
    "        total_cost = sum(\n",
    "            load_profile[t] * self.time_of_use_rates[t]\n",
    "            for t in load_profile\n",
    "        )\n",
    "\n",
    "        return {\n",
    "            'peak_load': peak_load,\n",
    "            'total_cost': total_cost,\n",
    "            'avg_load': avg_load,\n",
    "            'load_factor': avg_load / peak_load if peak_load > 0 else 0\n",
    "        }\n",
    "\n",
    "    def plot_load_profiles(self):\n",
    "        \"\"\"Plot comparison of baseline vs optimized load profiles.\"\"\"\n",
    "        hours = list(range(24))\n",
    "        baseline_loads = [self.baseline_load_profile[t] for t in hours]\n",
    "        optimized_loads = [self.optimized_load_profile[t] for t in hours]\n",
    "        rates = [self.time_of_use_rates[t] * 1000 for t in hours]  # Scale for visualization\n",
    "\n",
    "        fig = make_subplots(specs=[[{\"secondary_y\": True}]])\n",
    "\n",
    "        # Add load profiles\n",
    "        fig.add_trace(\n",
    "            go.Scatter(x=hours, y=baseline_loads, name=\"Baseline Load\", line=dict(color='red')),\n",
    "            secondary_y=False,\n",
    "        )\n",
    "\n",
    "        fig.add_trace(\n",
    "            go.Scatter(x=hours, y=optimized_loads, name=\"Optimized Load\", line=dict(color='blue')),\n",
    "            secondary_y=False,\n",
    "        )\n",
    "\n",
    "        # Add electricity rates\n",
    "        fig.add_trace(\n",
    "            go.Bar(x=hours, y=rates, name=\"Electricity Rate ($/MWh)\", opacity=0.3, marker_color='green'),\n",
    "            secondary_y=True,\n",
    "        )\n",
    "\n",
    "        # Add metrics annotations\n",
    "        annotations = [\n",
    "            dict(x=0.5, y=1.15, xref='paper', yref='paper',\n",
    "                 text=f\"Baseline - Peak: {self.baseline_metrics['peak_load']:.1f}kW, \" +\n",
    "                      f\"Cost: ${self.baseline_metrics['total_cost']:.2f}\",\n",
    "                 showarrow=False, font=dict(color='red')),\n",
    "            dict(x=0.5, y=1.1, xref='paper', yref='paper',\n",
    "                 text=f\"Optimized - Peak: {self.optimized_metrics['peak_load']:.1f}kW, \" +\n",
    "                      f\"Cost: ${self.optimized_metrics['total_cost']:.2f}\",\n",
    "                 showarrow=False, font=dict(color='blue'))\n",
    "        ]\n",
    "\n",
    "        # Update layout\n",
    "        fig.update_layout(\n",
    "            title=\"EV Charging Load Profile Comparison\",\n",
    "            xaxis_title=\"Hour of Day\",\n",
    "            yaxis_title=\"Load (kW)\",\n",
    "            yaxis2_title=\"Electricity Rate ($/MWh)\",\n",
    "            annotations=annotations,\n",
    "            height=600\n",
    "        )\n",
    "\n",
    "        fig.show()\n",
    "\n",
    "    def print_metrics_comparison(self):\n",
    "        \"\"\"Print comparison of baseline vs optimized metrics.\"\"\"\n",
    "        print(\"=== Performance Metrics Comparison ===\")\n",
    "        print(\n",
    "            f\"Peak Load Reduction: {self.baseline_metrics['peak_load']:.1f}kW → {self.optimized_metrics['peak_load']:.1f}kW \" +\n",
    "            f\"({(self.baseline_metrics['peak_load'] - self.optimized_metrics['peak_load']) / self.baseline_metrics['peak_load'] * 100:.1f}%)\")\n",
    "        print(\n",
    "            f\"Cost Reduction: ${self.baseline_metrics['total_cost']:.2f} → ${self.optimized_metrics['total_cost']:.2f} \" +\n",
    "            f\"({(self.baseline_metrics['total_cost'] - self.optimized_metrics['total_cost']) / self.baseline_metrics['total_cost'] * 100:.1f}%)\")\n",
    "        print(\n",
    "            f\"Load Factor Improvement: {self.baseline_metrics['load_factor']:.3f} → {self.optimized_metrics['load_factor']:.3f}\")\n",
    "\n",
    "    def visualize_results(self, filename='results.png'):\n",
    "        \"\"\"\n",
    "        Create comparison visualization and save as PNG.\n",
    "        \n",
    "        Args:\n",
    "            baseline_profile: Dict of hour:load for baseline\n",
    "            optimized_profile: Dict of hour:load for optimized\n",
    "            rates: Dict of hour:rate\n",
    "            filename: Output filename\n",
    "        \"\"\"\n",
    "        plt.figure(figsize=(16, 10))\n",
    "        \n",
    "        # Prepare data\n",
    "        hours = list(range(24))\n",
    "        baseline_loads = [self.baseline_load_profile[t] for t in hours]\n",
    "        optimized_loads = [self.optimized_load_profile[t] for t in hours]\n",
    "        rates = [self.time_of_use_rates[t] * 1000 for t in hours]  # Scale for visualization\n",
    "        \n",
    "        # Create plot\n",
    "        fig, ax1 = plt.subplots()\n",
    "        \n",
    "        # Load profiles\n",
    "        ax1.plot(hours, baseline_loads, 'r-', label='Baseline Load', linewidth=2)\n",
    "        ax1.plot(hours, optimized_loads, 'b-', label='Optimized Load', linewidth=2)\n",
    "        ax1.set_xlabel('Hour of Day')\n",
    "        ax1.set_ylabel('Load (kW)', color='k')\n",
    "        ax1.tick_params('y', colors='k')\n",
    "        ax1.set_xticks(range(0, 24, 2))\n",
    "        ax1.grid(True, alpha=0.3)\n",
    "        \n",
    "        # Electricity rates\n",
    "        ax2 = ax1.twinx()\n",
    "        ax2.bar(hours, rates, alpha=0.2, color='g', label='Electricity Rate (scaled)')\n",
    "        ax2.set_ylabel('Rate (scaled)', color='g')\n",
    "        ax2.tick_params('y', colors='g')\n",
    "        \n",
    "        # Metrics\n",
    "        peak_reduction = (max(baseline_loads) - max(optimized_loads)) / max(baseline_loads) * 100\n",
    "        cost_reduction = (sum(b*h for b,h in zip(baseline_loads, rates)) - \n",
    "                        sum(o*h for o,h in zip(optimized_loads, rates))) / \\\n",
    "                        sum(b*h for b,h in zip(baseline_loads, rates)) * 100\n",
    "        \n",
    "        plt.title(f'EV Charging Optimization\\nPeak Reduction: {peak_reduction:.1f}% | Cost Reduction: {cost_reduction:.1f}%')\n",
    "        fig.legend(loc='upper right', bbox_to_anchor=(0.9, 0.9))\n",
    "        plt.tight_layout()\n",
    "        plt.savefig(filename, dpi=600, bbox_inches='tight')\n",
    "        print(f\"Saved visualization to {filename}\")"
   ]
  },
  {
   "cell_type": "code",
   "execution_count": 53,
   "id": "9113d631-78ad-4209-80f1-288dcca8ba67",
   "metadata": {},
   "outputs": [
    {
     "name": "stdout",
     "output_type": "stream",
     "text": [
      "Creating visualizations\n"
     ]
    },
    {
     "data": {
      "application/vnd.plotly.v1+json": {
       "config": {
        "plotlyServerURL": "https://plot.ly"
       },
       "data": [
        {
         "line": {
          "color": "red"
         },
         "name": "Baseline Load",
         "type": "scatter",
         "x": [
          0,
          1,
          2,
          3,
          4,
          5,
          6,
          7,
          8,
          9,
          10,
          11,
          12,
          13,
          14,
          15,
          16,
          17,
          18,
          19,
          20,
          21,
          22,
          23
         ],
         "xaxis": "x",
         "y": [
          54.355022469723934,
          40.84405767467459,
          26.07079280277971,
          25.63144933216243,
          51.76705217870045,
          45.380026906210986,
          25.56124587684822,
          31.327479642613945,
          148.13901154725514,
          538.1449631185036,
          1184.3694766138574,
          2019.4462159664329,
          2621.8809404516546,
          2764.734975914682,
          2420.819492216002,
          1817.5247786975997,
          1657.2060998354307,
          2001.3494816637933,
          2097.744842589563,
          1948.2819489384708,
          1254.0683100387985,
          524.7166435266427,
          152.11631748029163,
          58.33446405919237
         ],
         "yaxis": "y"
        },
        {
         "line": {
          "color": "blue"
         },
         "name": "Optimized Load",
         "type": "scatter",
         "x": [
          0,
          1,
          2,
          3,
          4,
          5,
          6,
          7,
          8,
          9,
          10,
          11,
          12,
          13,
          14,
          15,
          16,
          17,
          18,
          19,
          20,
          21,
          22,
          23
         ],
         "xaxis": "x",
         "y": [
          937.5058144991771,
          962.1275500760797,
          932.0193122147199,
          986.4166441892327,
          1000.7122168258411,
          955.8361812591377,
          1010.00909658723,
          973.86047765956,
          995.4689046274045,
          963.4373700586104,
          976.4177943101404,
          988.9306711559591,
          951.2886659546125,
          976.0565905613047,
          987.5841246565401,
          967.2292578457169,
          957.9992405652574,
          1025.165525728957,
          1011.6854434469377,
          1005.7459670416214,
          1015.9231978069206,
          966.5854018142624,
          991.3991178975648,
          970.4105227591004
         ],
         "yaxis": "y"
        },
        {
         "marker": {
          "color": "green"
         },
         "name": "Electricity Rate ($/MWh)",
         "opacity": 0.3,
         "type": "bar",
         "x": [
          0,
          1,
          2,
          3,
          4,
          5,
          6,
          7,
          8,
          9,
          10,
          11,
          12,
          13,
          14,
          15,
          16,
          17,
          18,
          19,
          20,
          21,
          22,
          23
         ],
         "xaxis": "x",
         "y": [
          100,
          100,
          100,
          100,
          100,
          100,
          100,
          150,
          150,
          150,
          150,
          150,
          150,
          150,
          150,
          150,
          250,
          250,
          250,
          250,
          250,
          150,
          150,
          100
         ],
         "yaxis": "y2"
        }
       ],
       "layout": {
        "annotations": [
         {
          "font": {
           "color": "red"
          },
          "showarrow": false,
          "text": "Baseline - Peak: 2764.7kW, Cost: $4405.94",
          "x": 0.5,
          "xref": "paper",
          "y": 1.15,
          "yref": "paper"
         },
         {
          "font": {
           "color": "blue"
          },
          "showarrow": false,
          "text": "Optimized - Peak: 1025.2kW, Cost: $3640.37",
          "x": 0.5,
          "xref": "paper",
          "y": 1.1,
          "yref": "paper"
         }
        ],
        "autosize": true,
        "template": {
         "data": {
          "bar": [
           {
            "error_x": {
             "color": "#2a3f5f"
            },
            "error_y": {
             "color": "#2a3f5f"
            },
            "marker": {
             "line": {
              "color": "#E5ECF6",
              "width": 0.5
             },
             "pattern": {
              "fillmode": "overlay",
              "size": 10,
              "solidity": 0.2
             }
            },
            "type": "bar"
           }
          ],
          "barpolar": [
           {
            "marker": {
             "line": {
              "color": "#E5ECF6",
              "width": 0.5
             },
             "pattern": {
              "fillmode": "overlay",
              "size": 10,
              "solidity": 0.2
             }
            },
            "type": "barpolar"
           }
          ],
          "carpet": [
           {
            "aaxis": {
             "endlinecolor": "#2a3f5f",
             "gridcolor": "white",
             "linecolor": "white",
             "minorgridcolor": "white",
             "startlinecolor": "#2a3f5f"
            },
            "baxis": {
             "endlinecolor": "#2a3f5f",
             "gridcolor": "white",
             "linecolor": "white",
             "minorgridcolor": "white",
             "startlinecolor": "#2a3f5f"
            },
            "type": "carpet"
           }
          ],
          "choropleth": [
           {
            "colorbar": {
             "outlinewidth": 0,
             "ticks": ""
            },
            "type": "choropleth"
           }
          ],
          "contour": [
           {
            "colorbar": {
             "outlinewidth": 0,
             "ticks": ""
            },
            "colorscale": [
             [
              0,
              "#0d0887"
             ],
             [
              0.1111111111111111,
              "#46039f"
             ],
             [
              0.2222222222222222,
              "#7201a8"
             ],
             [
              0.3333333333333333,
              "#9c179e"
             ],
             [
              0.4444444444444444,
              "#bd3786"
             ],
             [
              0.5555555555555556,
              "#d8576b"
             ],
             [
              0.6666666666666666,
              "#ed7953"
             ],
             [
              0.7777777777777778,
              "#fb9f3a"
             ],
             [
              0.8888888888888888,
              "#fdca26"
             ],
             [
              1,
              "#f0f921"
             ]
            ],
            "type": "contour"
           }
          ],
          "contourcarpet": [
           {
            "colorbar": {
             "outlinewidth": 0,
             "ticks": ""
            },
            "type": "contourcarpet"
           }
          ],
          "heatmap": [
           {
            "colorbar": {
             "outlinewidth": 0,
             "ticks": ""
            },
            "colorscale": [
             [
              0,
              "#0d0887"
             ],
             [
              0.1111111111111111,
              "#46039f"
             ],
             [
              0.2222222222222222,
              "#7201a8"
             ],
             [
              0.3333333333333333,
              "#9c179e"
             ],
             [
              0.4444444444444444,
              "#bd3786"
             ],
             [
              0.5555555555555556,
              "#d8576b"
             ],
             [
              0.6666666666666666,
              "#ed7953"
             ],
             [
              0.7777777777777778,
              "#fb9f3a"
             ],
             [
              0.8888888888888888,
              "#fdca26"
             ],
             [
              1,
              "#f0f921"
             ]
            ],
            "type": "heatmap"
           }
          ],
          "histogram": [
           {
            "marker": {
             "pattern": {
              "fillmode": "overlay",
              "size": 10,
              "solidity": 0.2
             }
            },
            "type": "histogram"
           }
          ],
          "histogram2d": [
           {
            "colorbar": {
             "outlinewidth": 0,
             "ticks": ""
            },
            "colorscale": [
             [
              0,
              "#0d0887"
             ],
             [
              0.1111111111111111,
              "#46039f"
             ],
             [
              0.2222222222222222,
              "#7201a8"
             ],
             [
              0.3333333333333333,
              "#9c179e"
             ],
             [
              0.4444444444444444,
              "#bd3786"
             ],
             [
              0.5555555555555556,
              "#d8576b"
             ],
             [
              0.6666666666666666,
              "#ed7953"
             ],
             [
              0.7777777777777778,
              "#fb9f3a"
             ],
             [
              0.8888888888888888,
              "#fdca26"
             ],
             [
              1,
              "#f0f921"
             ]
            ],
            "type": "histogram2d"
           }
          ],
          "histogram2dcontour": [
           {
            "colorbar": {
             "outlinewidth": 0,
             "ticks": ""
            },
            "colorscale": [
             [
              0,
              "#0d0887"
             ],
             [
              0.1111111111111111,
              "#46039f"
             ],
             [
              0.2222222222222222,
              "#7201a8"
             ],
             [
              0.3333333333333333,
              "#9c179e"
             ],
             [
              0.4444444444444444,
              "#bd3786"
             ],
             [
              0.5555555555555556,
              "#d8576b"
             ],
             [
              0.6666666666666666,
              "#ed7953"
             ],
             [
              0.7777777777777778,
              "#fb9f3a"
             ],
             [
              0.8888888888888888,
              "#fdca26"
             ],
             [
              1,
              "#f0f921"
             ]
            ],
            "type": "histogram2dcontour"
           }
          ],
          "mesh3d": [
           {
            "colorbar": {
             "outlinewidth": 0,
             "ticks": ""
            },
            "type": "mesh3d"
           }
          ],
          "parcoords": [
           {
            "line": {
             "colorbar": {
              "outlinewidth": 0,
              "ticks": ""
             }
            },
            "type": "parcoords"
           }
          ],
          "pie": [
           {
            "automargin": true,
            "type": "pie"
           }
          ],
          "scatter": [
           {
            "fillpattern": {
             "fillmode": "overlay",
             "size": 10,
             "solidity": 0.2
            },
            "type": "scatter"
           }
          ],
          "scatter3d": [
           {
            "line": {
             "colorbar": {
              "outlinewidth": 0,
              "ticks": ""
             }
            },
            "marker": {
             "colorbar": {
              "outlinewidth": 0,
              "ticks": ""
             }
            },
            "type": "scatter3d"
           }
          ],
          "scattercarpet": [
           {
            "marker": {
             "colorbar": {
              "outlinewidth": 0,
              "ticks": ""
             }
            },
            "type": "scattercarpet"
           }
          ],
          "scattergeo": [
           {
            "marker": {
             "colorbar": {
              "outlinewidth": 0,
              "ticks": ""
             }
            },
            "type": "scattergeo"
           }
          ],
          "scattergl": [
           {
            "marker": {
             "colorbar": {
              "outlinewidth": 0,
              "ticks": ""
             }
            },
            "type": "scattergl"
           }
          ],
          "scattermap": [
           {
            "marker": {
             "colorbar": {
              "outlinewidth": 0,
              "ticks": ""
             }
            },
            "type": "scattermap"
           }
          ],
          "scattermapbox": [
           {
            "marker": {
             "colorbar": {
              "outlinewidth": 0,
              "ticks": ""
             }
            },
            "type": "scattermapbox"
           }
          ],
          "scatterpolar": [
           {
            "marker": {
             "colorbar": {
              "outlinewidth": 0,
              "ticks": ""
             }
            },
            "type": "scatterpolar"
           }
          ],
          "scatterpolargl": [
           {
            "marker": {
             "colorbar": {
              "outlinewidth": 0,
              "ticks": ""
             }
            },
            "type": "scatterpolargl"
           }
          ],
          "scatterternary": [
           {
            "marker": {
             "colorbar": {
              "outlinewidth": 0,
              "ticks": ""
             }
            },
            "type": "scatterternary"
           }
          ],
          "surface": [
           {
            "colorbar": {
             "outlinewidth": 0,
             "ticks": ""
            },
            "colorscale": [
             [
              0,
              "#0d0887"
             ],
             [
              0.1111111111111111,
              "#46039f"
             ],
             [
              0.2222222222222222,
              "#7201a8"
             ],
             [
              0.3333333333333333,
              "#9c179e"
             ],
             [
              0.4444444444444444,
              "#bd3786"
             ],
             [
              0.5555555555555556,
              "#d8576b"
             ],
             [
              0.6666666666666666,
              "#ed7953"
             ],
             [
              0.7777777777777778,
              "#fb9f3a"
             ],
             [
              0.8888888888888888,
              "#fdca26"
             ],
             [
              1,
              "#f0f921"
             ]
            ],
            "type": "surface"
           }
          ],
          "table": [
           {
            "cells": {
             "fill": {
              "color": "#EBF0F8"
             },
             "line": {
              "color": "white"
             }
            },
            "header": {
             "fill": {
              "color": "#C8D4E3"
             },
             "line": {
              "color": "white"
             }
            },
            "type": "table"
           }
          ]
         },
         "layout": {
          "annotationdefaults": {
           "arrowcolor": "#2a3f5f",
           "arrowhead": 0,
           "arrowwidth": 1
          },
          "autotypenumbers": "strict",
          "coloraxis": {
           "colorbar": {
            "outlinewidth": 0,
            "ticks": ""
           }
          },
          "colorscale": {
           "diverging": [
            [
             0,
             "#8e0152"
            ],
            [
             0.1,
             "#c51b7d"
            ],
            [
             0.2,
             "#de77ae"
            ],
            [
             0.3,
             "#f1b6da"
            ],
            [
             0.4,
             "#fde0ef"
            ],
            [
             0.5,
             "#f7f7f7"
            ],
            [
             0.6,
             "#e6f5d0"
            ],
            [
             0.7,
             "#b8e186"
            ],
            [
             0.8,
             "#7fbc41"
            ],
            [
             0.9,
             "#4d9221"
            ],
            [
             1,
             "#276419"
            ]
           ],
           "sequential": [
            [
             0,
             "#0d0887"
            ],
            [
             0.1111111111111111,
             "#46039f"
            ],
            [
             0.2222222222222222,
             "#7201a8"
            ],
            [
             0.3333333333333333,
             "#9c179e"
            ],
            [
             0.4444444444444444,
             "#bd3786"
            ],
            [
             0.5555555555555556,
             "#d8576b"
            ],
            [
             0.6666666666666666,
             "#ed7953"
            ],
            [
             0.7777777777777778,
             "#fb9f3a"
            ],
            [
             0.8888888888888888,
             "#fdca26"
            ],
            [
             1,
             "#f0f921"
            ]
           ],
           "sequentialminus": [
            [
             0,
             "#0d0887"
            ],
            [
             0.1111111111111111,
             "#46039f"
            ],
            [
             0.2222222222222222,
             "#7201a8"
            ],
            [
             0.3333333333333333,
             "#9c179e"
            ],
            [
             0.4444444444444444,
             "#bd3786"
            ],
            [
             0.5555555555555556,
             "#d8576b"
            ],
            [
             0.6666666666666666,
             "#ed7953"
            ],
            [
             0.7777777777777778,
             "#fb9f3a"
            ],
            [
             0.8888888888888888,
             "#fdca26"
            ],
            [
             1,
             "#f0f921"
            ]
           ]
          },
          "colorway": [
           "#636efa",
           "#EF553B",
           "#00cc96",
           "#ab63fa",
           "#FFA15A",
           "#19d3f3",
           "#FF6692",
           "#B6E880",
           "#FF97FF",
           "#FECB52"
          ],
          "font": {
           "color": "#2a3f5f"
          },
          "geo": {
           "bgcolor": "white",
           "lakecolor": "white",
           "landcolor": "#E5ECF6",
           "showlakes": true,
           "showland": true,
           "subunitcolor": "white"
          },
          "hoverlabel": {
           "align": "left"
          },
          "hovermode": "closest",
          "mapbox": {
           "style": "light"
          },
          "paper_bgcolor": "white",
          "plot_bgcolor": "#E5ECF6",
          "polar": {
           "angularaxis": {
            "gridcolor": "white",
            "linecolor": "white",
            "ticks": ""
           },
           "bgcolor": "#E5ECF6",
           "radialaxis": {
            "gridcolor": "white",
            "linecolor": "white",
            "ticks": ""
           }
          },
          "scene": {
           "xaxis": {
            "backgroundcolor": "#E5ECF6",
            "gridcolor": "white",
            "gridwidth": 2,
            "linecolor": "white",
            "showbackground": true,
            "ticks": "",
            "zerolinecolor": "white"
           },
           "yaxis": {
            "backgroundcolor": "#E5ECF6",
            "gridcolor": "white",
            "gridwidth": 2,
            "linecolor": "white",
            "showbackground": true,
            "ticks": "",
            "zerolinecolor": "white"
           },
           "zaxis": {
            "backgroundcolor": "#E5ECF6",
            "gridcolor": "white",
            "gridwidth": 2,
            "linecolor": "white",
            "showbackground": true,
            "ticks": "",
            "zerolinecolor": "white"
           }
          },
          "shapedefaults": {
           "line": {
            "color": "#2a3f5f"
           }
          },
          "ternary": {
           "aaxis": {
            "gridcolor": "white",
            "linecolor": "white",
            "ticks": ""
           },
           "baxis": {
            "gridcolor": "white",
            "linecolor": "white",
            "ticks": ""
           },
           "bgcolor": "#E5ECF6",
           "caxis": {
            "gridcolor": "white",
            "linecolor": "white",
            "ticks": ""
           }
          },
          "title": {
           "x": 0.05
          },
          "xaxis": {
           "automargin": true,
           "gridcolor": "white",
           "linecolor": "white",
           "ticks": "",
           "title": {
            "standoff": 15
           },
           "zerolinecolor": "white",
           "zerolinewidth": 2
          },
          "yaxis": {
           "automargin": true,
           "gridcolor": "white",
           "linecolor": "white",
           "ticks": "",
           "title": {
            "standoff": 15
           },
           "zerolinecolor": "white",
           "zerolinewidth": 2
          }
         }
        },
        "title": {
         "text": "EV Charging Load Profile Comparison"
        },
        "xaxis": {
         "anchor": "y",
         "autorange": true,
         "domain": [
          0,
          0.94
         ],
         "range": [
          -0.5,
          23.5
         ],
         "title": {
          "text": "Hour of Day"
         },
         "type": "linear"
        },
        "yaxis": {
         "anchor": "x",
         "autorange": true,
         "domain": [
          0,
          1
         ],
         "range": [
          -126.61507245858697,
          2916.911294250117
         ],
         "title": {
          "text": "Load (kW)"
         },
         "type": "linear"
        },
        "yaxis2": {
         "anchor": "x",
         "autorange": true,
         "overlaying": "y",
         "range": [
          0,
          263.1578947368421
         ],
         "side": "right",
         "title": {
          "text": "Electricity Rate ($/MWh)"
         },
         "type": "linear"
        }
       }
      },
      "image/png": "[encoded data removed]"
     },
     "metadata": {},
     "output_type": "display_data"
    },
    {
     "name": "stdout",
     "output_type": "stream",
     "text": [
      "=== Performance Metrics Comparison ===\n",
      "Peak Load Reduction: 2764.7kW → 1025.2kW (62.9%)\n",
      "Cost Reduction: $4405.94 → $3640.37 (17.4%)\n",
      "Load Factor Improvement: 0.354 → 0.956\n",
      "Saved visualization to results.png\n"
     ]
    },
    {
     "data": {
      "text/plain": [
       "<Figure size 1600x1000 with 0 Axes>"
      ]
     },
     "metadata": {},
     "output_type": "display_data"
    },
    {
     "data": {
      "image/png": "[encoded data removed]",
      "text/plain": [
       "<Figure size 640x480 with 2 Axes>"
      ]
     },
     "metadata": {},
     "output_type": "display_data"
    }
   ],
   "source": [
    "# Create and display visualizations\n",
    "visualizer = ChargingVisualizer(\n",
    "    charging_sessions=charging_sessions,\n",
    "    optimized_schedule=optimized_schedule,\n",
    "    optimized_load_profile=optimized_load_profile,\n",
    "    time_of_use_rates=time_of_use_rates\n",
    ")\n",
    "\n",
    "print(\"Creating visualizations\")\n",
    "visualizer.plot_load_profiles()\n",
    "visualizer.print_metrics_comparison()\n",
    "visualizer.visualize_results()"
   ]
  },
  {
   "cell_type": "markdown",
   "id": "c7ce3e03-3463-4be3-82fd-6f47b2537d5c",
   "metadata": {},
   "source": [
    "\n",
    "## Additional Research Suggestions\n",
    "\n",
    "If you have access to the full dataset, consider these additional analyses:\n",
    "\n",
    "1. **User Behavior Analysis**:\n",
    "   - Cluster users by charging patterns (time, duration, location)\n",
    "   - Predict user charging demand based on historical patterns\n",
    "\n",
    "2. **Station Utilization Analysis**:\n",
    "   - Identify under/over utilized stations\n",
    "   - Optimal station placement using spatial analysis\n",
    "\n",
    "3. **Advanced ML Approaches**:\n",
    "   - **Demand Forecasting**: LSTM networks for predicting charging demand\n",
    "   - **Reinforcement Learning**: Dynamic pricing optimization\n",
    "   - **Graph Neural Networks**: Model station networks and user flows\n",
    "\n",
    "4. **Infrastructure Planning**:\n",
    "   - Simulate different capacity expansion scenarios\n",
    "   - Evaluate ROI for new station installations\n",
    "\n",
    "### Recommended ML Stack:\n",
    "- **Forecasting**: Prophet, PyCaret, or custom LSTMs\n",
    "- **Clustering**: Scikit-learn (KMeans, DBSCAN) or PyCaret\n",
    "- **Optimization**: OR-Tools, Pyomo, or reinforcement learning\n",
    "- **Visualization**: Plotly Dash for interactive dashboards\n"
   ]
  },
  {
   "cell_type": "code",
   "execution_count": 58,
   "id": "263a40ba-c8b5-4e78-8c69-bf318ca7c1f4",
   "metadata": {},
   "outputs": [],
   "source": [
    "class ChargingAnalytics:\n",
    "    def __init__(self, charging_sessions):\n",
    "        self.data = charging_sessions\n",
    "    \n",
    "    def create_user_behavior_dashboard(self):\n",
    "        \"\"\"Generate interactive user behavior plots.\"\"\"\n",
    "        fig, (ax1, ax2) = plt.subplots(1, 2, figsize=(16, 6))\n",
    "        \n",
    "        # Plot 1: Charging by hour\n",
    "        hourly = self.data.groupby('startTime')['sessionId'].count()\n",
    "        hourly.plot(kind='bar', ax=ax1, color='skyblue')\n",
    "        ax1.set_title('Charging Sessions by Start Hour')\n",
    "        ax1.set_xlabel('Hour of Day')\n",
    "        ax1.set_ylabel('Number of Sessions')\n",
    "        \n",
    "        # Plot 2: Energy demand by facility type\n",
    "        facility_names = {1: 'Manufacturing', 2: 'Office', 3: 'R&D', 4: 'Other'}\n",
    "        facility_data = self.data.replace({'facilityType': facility_names})\\\n",
    "                             .groupby('facilityType')['kwhTotal'].sum()\n",
    "        facility_data.plot(kind='pie', ax=ax2, autopct='%1.1f%%')\n",
    "        ax2.set_title('Energy Demand by Facility Type')\n",
    "        ax2.set_ylabel('')\n",
    "        \n",
    "        plt.tight_layout()\n",
    "        plt.savefig('user_behavior.png', dpi=300)\n",
    "        return "
   ]
  },
  {
   "cell_type": "code",
   "execution_count": 59,
   "id": "65693429-b2c7-4af3-a449-5bc4e200285b",
   "metadata": {},
   "outputs": [
    {
     "data": {
      "image/png": "[encoded data removed]",
      "text/plain": [
       "<Figure size 1600x600 with 2 Axes>"
      ]
     },
     "metadata": {},
     "output_type": "display_data"
    }
   ],
   "source": [
    "analytics = ChargingAnalytics(charging_sessions)\n",
    "analytics.create_user_behavior_dashboard()"
   ]
  },
  {
   "cell_type": "code",
   "execution_count": null,
   "id": "c13a1cdf-f83a-4625-ac67-98c4af4cc555",
   "metadata": {},
   "outputs": [],
   "source": []
  }
 ],
 "metadata": {
  "kernelspec": {
   "display_name": "Python 3 (ipykernel)",
   "language": "python",
   "name": "python3"
  },
  "language_info": {
   "codemirror_mode": {
    "name": "ipython",
    "version": 3
   },
   "file_extension": ".py",
   "mimetype": "text/x-python",
   "name": "python",
   "nbconvert_exporter": "python",
   "pygments_lexer": "ipython3",
   "version": "3.8.10"
  }
 },
 "nbformat": 4,
 "nbformat_minor": 5
}
